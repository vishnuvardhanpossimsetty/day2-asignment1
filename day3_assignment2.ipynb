{
  "nbformat": 4,
  "nbformat_minor": 0,
  "metadata": {
    "colab": {
      "name": "day3-assignment2.ipynb",
      "provenance": [],
      "collapsed_sections": [],
      "authorship_tag": "ABX9TyNPc04lYtqfOn2u3/Q/mCQo",
      "include_colab_link": true
    },
    "kernelspec": {
      "name": "python3",
      "display_name": "Python 3"
    }
  },
  "cells": [
    {
      "cell_type": "markdown",
      "metadata": {
        "id": "view-in-github",
        "colab_type": "text"
      },
      "source": [
        "<a href=\"https://colab.research.google.com/github/vishnuvardhanpossimsetty/day2-asignment1/blob/main/day3_assignment2.ipynb\" target=\"_parent\"><img src=\"https://colab.research.google.com/assets/colab-badge.svg\" alt=\"Open In Colab\"/></a>"
      ]
    },
    {
      "cell_type": "code",
      "metadata": {
        "colab": {
          "base_uri": "https://localhost:8080/"
        },
        "id": "-UnTXdwNApqo",
        "outputId": "e37bd471-b779-4c73-92e2-9b53265bc5b9"
      },
      "source": [
        "#to land the plane at 1000ft\r\n",
        "altitude=1000\r\n",
        "if altitude<1000:\r\n",
        "  print(\"land the plane\")\r\n",
        "elif altitude > 5000 and altitude < 1000:\r\n",
        "  print(\"pilot please come down\")\r\n",
        "else:\r\n",
        "  print(\"go around and try later\")\r\n",
        "\r\n"
      ],
      "execution_count": 13,
      "outputs": [
        {
          "output_type": "stream",
          "text": [
            "go around and try later\n"
          ],
          "name": "stdout"
        }
      ]
    },
    {
      "cell_type": "code",
      "metadata": {
        "colab": {
          "base_uri": "https://localhost:8080/"
        },
        "id": "qTv_uKNaDNl2",
        "outputId": "04f8727e-2dd8-418d-eb3d-60d592230abe"
      },
      "source": [
        "# To bring the plane at 1000\r\n",
        "altitude=4500\r\n",
        "if altitude<1001:\r\n",
        "   print(\"safe to land\")\r\n",
        "elif altitude>5000:\r\n",
        "   print(\"turn around\")\r\n",
        "else:\r\n",
        "   print(\"bring down to 1000\")   \r\n",
        "\r\n",
        "\r\n",
        "\r\n",
        "\r\n",
        "\r\n",
        "\r\n",
        "\r\n",
        "\r\n",
        "\r\n",
        "\r\n",
        "\r\n",
        "\r\n",
        "\r\n",
        "\r\n",
        "\r\n",
        "\r\n",
        "\r\n",
        "\r\n",
        "\r\n",
        "\r\n",
        "\r\n",
        "\r\n",
        "\r\n",
        "\r\n",
        "\r\n",
        "\r\n",
        "\r\n"
      ],
      "execution_count": 14,
      "outputs": [
        {
          "output_type": "stream",
          "text": [
            "bring down to 1000\n"
          ],
          "name": "stdout"
        }
      ]
    },
    {
      "cell_type": "code",
      "metadata": {
        "colab": {
          "base_uri": "https://localhost:8080/"
        },
        "id": "kOHNMqQlJ88z",
        "outputId": "a55fe2b9-e076-44ff-f59d-7cd56aa88c16"
      },
      "source": [
        "# to land plane at 1000ft\r\n",
        "altitude=6500\r\n",
        "if altitude<1001:\r\n",
        "  print(\"safe to land\")\r\n",
        "elif altitude>5000:\r\n",
        "  print(\"turn around\")\r\n",
        "else:\r\n",
        "   print(\"bring down to 1000\")  "
      ],
      "execution_count": 16,
      "outputs": [
        {
          "output_type": "stream",
          "text": [
            "turn around\n"
          ],
          "name": "stdout"
        }
      ]
    },
    {
      "cell_type": "code",
      "metadata": {
        "id": "piaR9z6LKooj"
      },
      "source": [
        ""
      ],
      "execution_count": null,
      "outputs": []
    }
  ]
}