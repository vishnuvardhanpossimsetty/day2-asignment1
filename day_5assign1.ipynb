{
  "nbformat": 4,
  "nbformat_minor": 0,
  "metadata": {
    "colab": {
      "name": "day-5assign1.ipynb",
      "provenance": [],
      "authorship_tag": "ABX9TyMsWchIWZkZs2alaxIvneV2",
      "include_colab_link": true
    },
    "kernelspec": {
      "name": "python3",
      "display_name": "Python 3"
    }
  },
  "cells": [
    {
      "cell_type": "markdown",
      "metadata": {
        "id": "view-in-github",
        "colab_type": "text"
      },
      "source": [
        "<a href=\"https://colab.research.google.com/github/vishnuvardhanpossimsetty/day2-asignment1/blob/main/day_5assign1.ipynb\" target=\"_parent\"><img src=\"https://colab.research.google.com/assets/colab-badge.svg\" alt=\"Open In Colab\"/></a>"
      ]
    },
    {
      "cell_type": "code",
      "metadata": {
        "colab": {
          "base_uri": "https://localhost:8080/"
        },
        "id": "KbALNwdz-CF4",
        "outputId": "61e06be3-b418-4d18-83fc-78534831b90c"
      },
      "source": [
        "#To check whether the number is prime number or not\r\n",
        "num = 9  \r\n",
        "  \r\n",
        "if num > 1:  \r\n",
        "   for i in range(2,num):  \r\n",
        "       if (num % i) == 0:  \r\n",
        "           print(num,\"is not a prime number\")  \r\n",
        "           break  \r\n",
        "   else:  \r\n",
        "       print(num,\"is a prime number\")  \r\n",
        "         \r\n",
        "else:  \r\n",
        "   print(num,\"is not a prime number\")  "
      ],
      "execution_count": 2,
      "outputs": [
        {
          "output_type": "stream",
          "text": [
            "9 is not a prime number\n"
          ],
          "name": "stdout"
        }
      ]
    }
  ]
}