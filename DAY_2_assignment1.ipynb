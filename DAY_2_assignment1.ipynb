{
  "nbformat": 4,
  "nbformat_minor": 0,
  "metadata": {
    "colab": {
      "name": "DAY-2 assignment1.ipynb",
      "provenance": [],
      "collapsed_sections": [],
      "authorship_tag": "ABX9TyPOVMnfHRigs8Yf9hBcicOO",
      "include_colab_link": true
    },
    "kernelspec": {
      "name": "python3",
      "display_name": "Python 3"
    }
  },
  "cells": [
    {
      "cell_type": "markdown",
      "metadata": {
        "id": "view-in-github",
        "colab_type": "text"
      },
      "source": [
        "<a href=\"https://colab.research.google.com/github/vishnuvardhanpossimsetty/day2-asignment1/blob/main/DAY_2_assignment1.ipynb\" target=\"_parent\"><img src=\"https://colab.research.google.com/assets/colab-badge.svg\" alt=\"Open In Colab\"/></a>"
      ]
    },
    {
      "cell_type": "code",
      "metadata": {
        "colab": {
          "base_uri": "https://localhost:8080/"
        },
        "id": "Hxuz6viQ2P5S",
        "outputId": "8f99b441-1b39-4cbc-a4c7-84499e2df10b"
      },
      "source": [
        "# 1st experiment with list\r\n",
        "mylist=[1,2,3,4,5]\r\n",
        "print(mylist)"
      ],
      "execution_count": 1,
      "outputs": [
        {
          "output_type": "stream",
          "text": [
            "[1, 2, 3, 4, 5]\n"
          ],
          "name": "stdout"
        }
      ]
    },
    {
      "cell_type": "code",
      "metadata": {
        "colab": {
          "base_uri": "https://localhost:8080/",
          "height": 35
        },
        "id": "Qnn3TdPpD1-E",
        "outputId": "2174a157-154d-40c6-cc80-c70e779fd96d"
      },
      "source": [
        "# 2nd experiment with list\r\n",
        "mylist=[3,6,9,\"vishnu\"]\r\n",
        "mylist[3]"
      ],
      "execution_count": 2,
      "outputs": [
        {
          "output_type": "execute_result",
          "data": {
            "application/vnd.google.colaboratory.intrinsic+json": {
              "type": "string"
            },
            "text/plain": [
              "'vishnu'"
            ]
          },
          "metadata": {
            "tags": []
          },
          "execution_count": 2
        }
      ]
    },
    {
      "cell_type": "code",
      "metadata": {
        "colab": {
          "base_uri": "https://localhost:8080/"
        },
        "id": "ZgY9jIfmDwWo",
        "outputId": "bb0d02d7-5533-4e03-8004-0ca3e1558197"
      },
      "source": [
        "# 3rd experiment with list\r\n",
        "mylist=[\"new\",\"world\",0,5,9]\r\n",
        "mylist[-1]"
      ],
      "execution_count": 3,
      "outputs": [
        {
          "output_type": "execute_result",
          "data": {
            "text/plain": [
              "9"
            ]
          },
          "metadata": {
            "tags": []
          },
          "execution_count": 3
        }
      ]
    },
    {
      "cell_type": "code",
      "metadata": {
        "id": "7gQviaalEsiR"
      },
      "source": [
        "# 4th experiment with list\r\n",
        "mylist=(2,3,4,7,9,0,5)\r\n",
        "del mylist"
      ],
      "execution_count": 6,
      "outputs": []
    }
  ]
}